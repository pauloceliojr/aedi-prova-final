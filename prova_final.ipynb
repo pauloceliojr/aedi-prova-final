{
 "cells": [
  {
   "cell_type": "markdown",
   "metadata": {
    "id": "signal-thong",
    "pycharm": {
     "name": "#%% md\n"
    }
   },
   "source": [
    "# Prova Final - Aplicação no Mercado Financeiro\n",
    "\n",
    "Universidade de Brasília - PPCA\n",
    "\n",
    "Aluno: Paulo Célio Soares da Silva Júnior - Matrícula: 220005605\n",
    "\n",
    "Curso: AEDI 1/2022\n",
    "\n",
    "Prof. João Gabriel de Moraes Souza"
   ],
   "id": "signal-thong"
  },
  {
   "cell_type": "markdown",
   "metadata": {
    "id": "characteristic-behavior",
    "pycharm": {
     "name": "#%% md\n"
    }
   },
   "source": [
    "***\n",
    "## <font color=\"green\">1 - Importando as bibliotecas</font>\n",
    "***"
   ],
   "id": "characteristic-behavior"
  },
  {
   "cell_type": "code",
   "execution_count": 1,
   "metadata": {
    "id": "hawaiian-guess",
    "pycharm": {
     "name": "#%%\n"
    }
   },
   "outputs": [],
   "source": [
    "import pandas as pd\n",
    "import pandas_datareader.data as web\n",
    "import numpy as np\n",
    "from scipy.stats import levene, bartlett, f, norm, f_oneway"
   ],
   "id": "hawaiian-guess"
  },
  {
   "cell_type": "markdown",
   "metadata": {
    "id": "584f6cb5",
    "pycharm": {
     "name": "#%% md\n"
    }
   },
   "source": [
    "***\n",
    "## <font color=\"green\">2 - Conhecendo o dataset</font>\n",
    "***"
   ],
   "id": "584f6cb5"
  },
  {
   "cell_type": "markdown",
   "metadata": {
    "id": "34020f6c",
    "pycharm": {
     "name": "#%% md\n"
    }
   },
   "source": [
    "No primeiro dia de cada mês, são recomendados 10 ativos para investir, selecionados por analistas da corretora [NuInvest](https://nuinvest.com.br), que compõem uma carteira\n",
    "denominada **Top 10 recomendações**. A recomendação dos analistas é que o investimento seja distribuído igualmente, ou seja, em cada um desses ativos, aplica-se 10% do total investido.\n",
    "\n",
    "Para o mês de julho de 2022, a corretora indicou os seguintes ativos para composição da carteira:\n",
    "\n",
    "<br>\n",
    "<table>\n",
    "<tbody>\n",
    "  <tr>\n",
    "    <td style=\"text-align:left;vertical-align:top; border:none\"><img src=\"https://images.easynvest.com.br/trade/logos/PRIO3.png\" width=\"64\" height=\"64\"></td>\n",
    "    <td style=\"text-align:left;vertical-align:middle; border:none\">\n",
    "        <p style=\"font-weight: 500;font-size: 16px;line-height: 24px;padding-left:10px\">Petrorio</p>\n",
    "        <p style=\"line-height: 24px;font-size: 14px;line-height: 20px;padding-left:10px;color: rgb(105, 105, 105)\">PRIO3</p>\n",
    "    </td>\n",
    "  </tr>\n",
    "  <tr>\n",
    "    <td style=\"text-align:left;vertical-align:top; border:none\"><img src=\"https://images.easynvest.com.br/trade/logos/JHSF3.png\" width=\"64\" height=\"64\"></td>\n",
    "    <td style=\"text-align:left;vertical-align:middle; border:none\">\n",
    "        <p style=\"font-weight: 500;font-size: 16px;line-height: 24px;padding-left:10px\">JHSF Part</p>\n",
    "        <p style=\"line-height: 24px;font-size: 14px;line-height: 20px;padding-left:10px;color: rgb(105, 105, 105)\">JHSF3</p>\n",
    "    </td>\n",
    "  </tr>\n",
    "  <tr>\n",
    "    <td style=\"text-align:left;vertical-align:top; border:none\"><img src=\"https://images.easynvest.com.br/trade/logos/SANB11.png\" width=\"64\" height=\"64\"></td>\n",
    "    <td style=\"text-align:left;vertical-align:middle; border:none\">\n",
    "        <p style=\"font-weight: 500;font-size: 16px;line-height: 24px;padding-left:10px\">Santander</p>\n",
    "        <p style=\"line-height: 24px;font-size: 14px;line-height: 20px;padding-left:10px;color: rgb(105, 105, 105)\">SANB11</p>\n",
    "    </td>\n",
    "  </tr>\n",
    "  <tr>\n",
    "    <td style=\"text-align:left;vertical-align:top; border:none\"><img src=\"https://images.easynvest.com.br/trade/logos/VIVT3.png\" width=\"64\" height=\"64\"></td>\n",
    "    <td style=\"text-align:left;vertical-align:middle; border:none\">\n",
    "        <p style=\"font-weight: 500;font-size: 16px;line-height: 24px;padding-left:10px\">Telefônica Brasil</p>\n",
    "        <p style=\"line-height: 24px;font-size: 14px;line-height: 20px;padding-left:10px;color: rgb(105, 105, 105)\">VIVT3</p>\n",
    "    </td>\n",
    "  </tr>\n",
    "  <tr>\n",
    "    <td style=\"text-align:left;vertical-align:top; border:none\"><img src=\"https://images.easynvest.com.br/trade/logos/ENEV3.png\" width=\"64\" height=\"64\"></td>\n",
    "    <td style=\"text-align:left;vertical-align:middle; border:none\">\n",
    "        <p style=\"font-weight: 500;font-size: 16px;line-height: 24px;padding-left:10px\">Eneva</p>\n",
    "        <p style=\"line-height: 24px;font-size: 14px;line-height: 20px;padding-left:10px;color: rgb(105, 105, 105)\">ENEV3</p>\n",
    "    </td>\n",
    "  </tr>\n",
    "  <tr>\n",
    "    <td style=\"text-align:left;vertical-align:top; border:none\"><img src=\"https://images.easynvest.com.br/trade/logos/MULT3.png\" width=\"64\" height=\"64\"></td>\n",
    "    <td style=\"text-align:left;vertical-align:middle; border:none\">\n",
    "        <p style=\"font-weight: 500;font-size: 16px;line-height: 24px;padding-left:10px\">Multiplan</p>\n",
    "        <p style=\"line-height: 24px;font-size: 14px;line-height: 20px;padding-left:10px;color: rgb(105, 105, 105)\">MULT3</p>\n",
    "    </td>\n",
    "  </tr>\n",
    "  <tr>\n",
    "    <td style=\"text-align:left;vertical-align:top; border:none\"><img src=\"https://images.easynvest.com.br/trade/logos/SIMH3.png\" width=\"64\" height=\"64\"></td>\n",
    "    <td style=\"text-align:left;vertical-align:middle; border:none\">\n",
    "        <p style=\"font-weight: 500;font-size: 16px;line-height: 24px;padding-left:10px\">Simpar</p>\n",
    "        <p style=\"line-height: 24px;font-size: 14px;line-height: 20px;padding-left:10px;color: rgb(105, 105, 105)\">SIMH3</p>\n",
    "    </td>\n",
    "  </tr>\n",
    "  <tr>\n",
    "    <td style=\"text-align:left;vertical-align:top; border:none\"><img src=\"https://images.easynvest.com.br/trade/logos/UNIP6.png\" width=\"64\" height=\"64\"></td>\n",
    "    <td style=\"text-align:left;vertical-align:middle; border:none\">\n",
    "        <p style=\"font-weight: 500;font-size: 16px;line-height: 24px;padding-left:10px\">Unipar</p>\n",
    "        <p style=\"line-height: 24px;font-size: 14px;line-height: 20px;padding-left:10px;color: rgb(105, 105, 105)\">UNIP6</p>\n",
    "    </td>\n",
    "  </tr>\n",
    "  <tr>\n",
    "    <td style=\"text-align:left;vertical-align:top; border:none\"><img src=\"https://images.easynvest.com.br/trade/logos/STBP3.png\" width=\"64\" height=\"64\"></td>\n",
    "    <td style=\"text-align:left;vertical-align:middle; border:none\">\n",
    "        <p style=\"font-weight: 500;font-size: 16px;line-height: 24px;padding-left:10px\">Santos Brp</p>\n",
    "        <p style=\"line-height: 24px;font-size: 14px;line-height: 20px;padding-left:10px;color: rgb(105, 105, 105)\">STBP3</p>\n",
    "    </td>\n",
    "  </tr>\n",
    "  <tr>\n",
    "    <td style=\"text-align:left;vertical-align:top; border:none\"><img src=\"https://images.easynvest.com.br/trade/logos/GOAU4.png\" width=\"64\" height=\"64\"></td>\n",
    "    <td style=\"text-align:left;vertical-align:middle; border:none\">\n",
    "        <p style=\"font-weight: 500;font-size: 16px;line-height: 24px;padding-left:10px\">Gerdau Met</p>\n",
    "        <p style=\"line-height: 24px;font-size: 14px;line-height: 20px;padding-left:10px;color: rgb(105, 105, 105)\">GOAU4</p>\n",
    "    </td>\n",
    "  </tr>\n",
    "</tbody>\n",
    "</table>\n",
    "\n",
    "A partir dessa carteira, o dataset de estudo foi construído a fim de obter, como amostras, os valores de mercado dessas ações desde 2015 até os dias atuais. A título de comparação,\n",
    "o dataset também incorpora o índice IBOVESPA (^BVSP)."
   ],
   "id": "34020f6c"
  },
  {
   "cell_type": "markdown",
   "metadata": {
    "id": "brave-repeat",
    "pycharm": {
     "name": "#%% md\n"
    }
   },
   "source": [
    "### 2.1 - Construindo o dataset com as ações da carteira\n",
    "***"
   ],
   "id": "brave-repeat"
  },
  {
   "cell_type": "markdown",
   "metadata": {
    "id": "95d6065e",
    "pycharm": {
     "name": "#%% md\n"
    }
   },
   "source": [
    "A seguir, os códigos dos ativos são reunidos em uma lista para montagem do DataFrame do Pandas com preço de fechamento de cada um dos ativos\n",
    "que compõem a carteira. **A data de início é 01/01/2015 e a de término é o dia 30/06/2022**."
   ],
   "id": "95d6065e"
  },
  {
   "cell_type": "code",
   "execution_count": 2,
   "metadata": {
    "colab": {
     "base_uri": "https://localhost:8080/"
    },
    "id": "opened-villa",
    "outputId": "d67bd57f-9f4a-4b3f-c21c-1094b161f111",
    "pycharm": {
     "name": "#%%\n"
    }
   },
   "outputs": [
    {
     "data": {
      "text/plain": "['PRIO3.SA',\n 'JHSF3.SA',\n 'SANB11.SA',\n 'VIVT3.SA',\n 'ENEV3.SA',\n 'MULT3.SA',\n 'SIMH3.SA',\n 'UNIP6.SA',\n 'STBP3.SA',\n 'GOAU4.SA',\n '^BVSP']"
     },
     "execution_count": 2,
     "metadata": {},
     "output_type": "execute_result"
    }
   ],
   "source": [
    "acoes = [\"PRIO3.SA\", \"JHSF3.SA\", \"SANB11.SA\", \"VIVT3.SA\", \"ENEV3.SA\", \"MULT3.SA\", \"SIMH3.SA\", \"UNIP6.SA\", \"STBP3.SA\", \"GOAU4.SA\", \"^BVSP\"]\n",
    "acoes"
   ],
   "id": "opened-villa"
  },
  {
   "cell_type": "code",
   "execution_count": 3,
   "metadata": {
    "colab": {
     "base_uri": "https://localhost:8080/",
     "height": 424
    },
    "id": "likely-terminal",
    "outputId": "94af91de-00cd-4908-c7d3-abd12ff69737",
    "pycharm": {
     "name": "#%%\n"
    }
   },
   "outputs": [
    {
     "data": {
      "text/plain": "     Data de Negociação      PRIO3  JHSF3      SANB1      VIVT3      ENEV3  \\\n0            2015-01-02   0.440000   2.23  12.720000  37.820000   5.989072   \n1            2015-01-05   0.407000   2.15  12.630000  37.070000   5.561281   \n2            2015-01-06   0.367000   2.16  12.720000  36.150002   5.703878   \n3            2015-01-07   0.366000   2.16  13.250000  37.389999   5.846475   \n4            2015-01-08   0.378000   2.36  13.030000  38.910000   5.989072   \n...                 ...        ...    ...        ...        ...        ...   \n1857         2022-06-24  21.530001   6.19  29.389999  46.549999  14.360000   \n1858         2022-06-27  22.670000   6.28  29.920000  46.700001  15.190000   \n1859         2022-06-28  22.660000   6.24  29.850000  46.480000  15.350000   \n1860         2022-06-29  22.469999   6.18  29.309999  45.660000  14.970000   \n1861         2022-06-30  21.990000   5.83  28.809999  47.060001  14.770000   \n\n          MULT3  SIMH3      UNIP6  STBP3  GOAU4     ^BVSP  \n0     14.753333    NaN   3.357142   0.95  10.82   48512.0  \n1     14.733333    NaN   3.214285   0.95  10.31   47517.0  \n2     15.466666    NaN   3.285713   0.95  11.32   48001.0  \n3     16.000000    NaN   3.285713   0.95  12.15   49463.0  \n4     15.830000    NaN   3.285713   0.95  11.74   49943.0  \n...         ...    ...        ...    ...    ...       ...  \n1857  22.510000   9.78  91.959999   6.41   9.74   98672.0  \n1858  22.580000   9.82  94.599998   6.50   9.89  100764.0  \n1859  22.820000   9.55  95.610001   6.33   9.91  100591.0  \n1860  22.450001   9.43  93.930000   6.43   9.84   99622.0  \n1861  21.950001   9.28  91.099998   6.52   9.55   98542.0  \n\n[1862 rows x 12 columns]",
      "text/html": "<div>\n<style scoped>\n    .dataframe tbody tr th:only-of-type {\n        vertical-align: middle;\n    }\n\n    .dataframe tbody tr th {\n        vertical-align: top;\n    }\n\n    .dataframe thead th {\n        text-align: right;\n    }\n</style>\n<table border=\"1\" class=\"dataframe\">\n  <thead>\n    <tr style=\"text-align: right;\">\n      <th></th>\n      <th>Data de Negociação</th>\n      <th>PRIO3</th>\n      <th>JHSF3</th>\n      <th>SANB1</th>\n      <th>VIVT3</th>\n      <th>ENEV3</th>\n      <th>MULT3</th>\n      <th>SIMH3</th>\n      <th>UNIP6</th>\n      <th>STBP3</th>\n      <th>GOAU4</th>\n      <th>^BVSP</th>\n    </tr>\n  </thead>\n  <tbody>\n    <tr>\n      <th>0</th>\n      <td>2015-01-02</td>\n      <td>0.440000</td>\n      <td>2.23</td>\n      <td>12.720000</td>\n      <td>37.820000</td>\n      <td>5.989072</td>\n      <td>14.753333</td>\n      <td>NaN</td>\n      <td>3.357142</td>\n      <td>0.95</td>\n      <td>10.82</td>\n      <td>48512.0</td>\n    </tr>\n    <tr>\n      <th>1</th>\n      <td>2015-01-05</td>\n      <td>0.407000</td>\n      <td>2.15</td>\n      <td>12.630000</td>\n      <td>37.070000</td>\n      <td>5.561281</td>\n      <td>14.733333</td>\n      <td>NaN</td>\n      <td>3.214285</td>\n      <td>0.95</td>\n      <td>10.31</td>\n      <td>47517.0</td>\n    </tr>\n    <tr>\n      <th>2</th>\n      <td>2015-01-06</td>\n      <td>0.367000</td>\n      <td>2.16</td>\n      <td>12.720000</td>\n      <td>36.150002</td>\n      <td>5.703878</td>\n      <td>15.466666</td>\n      <td>NaN</td>\n      <td>3.285713</td>\n      <td>0.95</td>\n      <td>11.32</td>\n      <td>48001.0</td>\n    </tr>\n    <tr>\n      <th>3</th>\n      <td>2015-01-07</td>\n      <td>0.366000</td>\n      <td>2.16</td>\n      <td>13.250000</td>\n      <td>37.389999</td>\n      <td>5.846475</td>\n      <td>16.000000</td>\n      <td>NaN</td>\n      <td>3.285713</td>\n      <td>0.95</td>\n      <td>12.15</td>\n      <td>49463.0</td>\n    </tr>\n    <tr>\n      <th>4</th>\n      <td>2015-01-08</td>\n      <td>0.378000</td>\n      <td>2.36</td>\n      <td>13.030000</td>\n      <td>38.910000</td>\n      <td>5.989072</td>\n      <td>15.830000</td>\n      <td>NaN</td>\n      <td>3.285713</td>\n      <td>0.95</td>\n      <td>11.74</td>\n      <td>49943.0</td>\n    </tr>\n    <tr>\n      <th>...</th>\n      <td>...</td>\n      <td>...</td>\n      <td>...</td>\n      <td>...</td>\n      <td>...</td>\n      <td>...</td>\n      <td>...</td>\n      <td>...</td>\n      <td>...</td>\n      <td>...</td>\n      <td>...</td>\n      <td>...</td>\n    </tr>\n    <tr>\n      <th>1857</th>\n      <td>2022-06-24</td>\n      <td>21.530001</td>\n      <td>6.19</td>\n      <td>29.389999</td>\n      <td>46.549999</td>\n      <td>14.360000</td>\n      <td>22.510000</td>\n      <td>9.78</td>\n      <td>91.959999</td>\n      <td>6.41</td>\n      <td>9.74</td>\n      <td>98672.0</td>\n    </tr>\n    <tr>\n      <th>1858</th>\n      <td>2022-06-27</td>\n      <td>22.670000</td>\n      <td>6.28</td>\n      <td>29.920000</td>\n      <td>46.700001</td>\n      <td>15.190000</td>\n      <td>22.580000</td>\n      <td>9.82</td>\n      <td>94.599998</td>\n      <td>6.50</td>\n      <td>9.89</td>\n      <td>100764.0</td>\n    </tr>\n    <tr>\n      <th>1859</th>\n      <td>2022-06-28</td>\n      <td>22.660000</td>\n      <td>6.24</td>\n      <td>29.850000</td>\n      <td>46.480000</td>\n      <td>15.350000</td>\n      <td>22.820000</td>\n      <td>9.55</td>\n      <td>95.610001</td>\n      <td>6.33</td>\n      <td>9.91</td>\n      <td>100591.0</td>\n    </tr>\n    <tr>\n      <th>1860</th>\n      <td>2022-06-29</td>\n      <td>22.469999</td>\n      <td>6.18</td>\n      <td>29.309999</td>\n      <td>45.660000</td>\n      <td>14.970000</td>\n      <td>22.450001</td>\n      <td>9.43</td>\n      <td>93.930000</td>\n      <td>6.43</td>\n      <td>9.84</td>\n      <td>99622.0</td>\n    </tr>\n    <tr>\n      <th>1861</th>\n      <td>2022-06-30</td>\n      <td>21.990000</td>\n      <td>5.83</td>\n      <td>28.809999</td>\n      <td>47.060001</td>\n      <td>14.770000</td>\n      <td>21.950001</td>\n      <td>9.28</td>\n      <td>91.099998</td>\n      <td>6.52</td>\n      <td>9.55</td>\n      <td>98542.0</td>\n    </tr>\n  </tbody>\n</table>\n<p>1862 rows × 12 columns</p>\n</div>"
     },
     "execution_count": 3,
     "metadata": {},
     "output_type": "execute_result"
    }
   ],
   "source": [
    "acoes_df = pd.DataFrame()\n",
    "for acao in acoes:\n",
    "    acoes_df[acao[:5]] = web.DataReader(acao, data_source=\"yahoo\", start=\"2015-01-01\", end=\"2022-06-30\")[\"Close\"]\n",
    "\n",
    "acoes_df.reset_index(inplace=True) # transforma o índice original (data de negociação) em um índice numérico\n",
    "acoes_df.rename(columns={\"Date\": \"Data de Negociação\"}, inplace=True) # renomeia a coluna \"Date\" para \"Data de Negociação\"\n",
    "acoes_df"
   ],
   "id": "likely-terminal"
  },
  {
   "cell_type": "markdown",
   "metadata": {
    "id": "96c8e3d0",
    "pycharm": {
     "name": "#%% md\n"
    }
   },
   "source": [
    "***\n",
    "## <font color=\"green\">3 - Montando a carteira</font>\n",
    "***"
   ],
   "id": "96c8e3d0"
  },
  {
   "cell_type": "markdown",
   "metadata": {
    "id": "151de4e3",
    "pycharm": {
     "name": "#%% md\n"
    }
   },
   "source": [
    "Para realização do trabalho, será criado um novo dataset transformado para análise, a partir do dataset de ações obtido na seção anterior, contendo os dados dessa carteira. O dataset de análise contém as datas de negociações, as médias das taxas de retorno que compõem a carteira e o retorno do índice a ser comparado, no caso o índice IBOVESPA (^BVSP)."
   ],
   "id": "151de4e3"
  },
  {
   "cell_type": "markdown",
   "source": [
    "### 3.1 - Preparando o novo dataset\n",
    "***"
   ],
   "metadata": {
    "collapsed": false,
    "pycharm": {
     "name": "#%% md\n"
    }
   }
  },
  {
   "cell_type": "markdown",
   "source": [
    "Para análise da taxa de retorno diário das ações, utilizou-se cálculo de log-retorno em vez de retorno linear, embora, na prática, a diferença seja pouca para dias consecutivos. O log-retorno é dado pela seguinte fórmula:\n",
    "\n",
    "$$ \\mathbb{E} [ R_i] = ln \\left( \\frac{P_t}{P_{t-1}} \\right) $$\n",
    "\n",
    "Onde:\n",
    "\n",
    "$ln$ = logaritmo natural\n",
    "\n",
    "$P_t$ = preço no dia final\n",
    "\n",
    "$P_{t-1}$ = preço no dia inicial"
   ],
   "metadata": {
    "collapsed": false,
    "pycharm": {
     "name": "#%% md\n"
    }
   }
  },
  {
   "cell_type": "markdown",
   "source": [
    "### 4.1 - Simulando uma alocação de recursos financeiros\n",
    "***"
   ],
   "metadata": {
    "collapsed": false,
    "pycharm": {
     "name": "#%% md\n"
    }
   }
  },
  {
   "cell_type": "markdown",
   "source": [
    "Primeiramente é criada uma função para, a partir de um dataset contendo os valores das ações, calcular as taxas de retorno ponderadas da carteira definida.\n",
    "\n",
    "A função recebe:\n",
    "1. dataset contendo os valores das ações da carteira\n",
    "2. valor do seed para a função de randomização (permitirá a reprodução dos resultados)\n",
    "3. opcionalmente, uma lista de pesos de alocação de cada papel caso não se deseje obter pesos aleatórios\n",
    "\n",
    "A função retorna:\n",
    "1. dataset contendo as taxas de retorno diárias das ações, de acordo com a ponderação informada;\n",
    "3. os pesos utilizados no cálculo;\n",
    "4. valor total atualizado da carteira, considerando o valor investido"
   ],
   "metadata": {
    "collapsed": false,
    "pycharm": {
     "name": "#%% md\n"
    }
   }
  },
  {
   "cell_type": "code",
   "execution_count": 44,
   "outputs": [],
   "source": [
    "def alocacao_ativos(dataset, seed = 0, melhores_pesos = []):\n",
    "    dataset_retorno = dataset.drop(columns=[\"Data de Negociação\", \"^BVSP\"])\n",
    "\n",
    "    if seed != 0:\n",
    "        np.random.seed(seed)\n",
    "\n",
    "    # Se uma lista de pesos for informada, será utilizada. Caso contrário, serão definidos pesos de alocação aleatórios\n",
    "    if len(melhores_pesos) > 0:\n",
    "        pesos = melhores_pesos\n",
    "    else:\n",
    "        pesos = np.random.random(dataset_retorno.shape[1])\n",
    "        pesos /=  pesos.sum() # normaliza os pesos gerados aleatoriamente para valores de 0 a 1\n",
    "\n",
    "    # Calcula a taxa de retorno diário de cada ação com log-retorno\n",
    "    dataset_retorno = np.log(dataset_retorno / dataset_retorno.shift(1)) # log retorno\n",
    "\n",
    "    # Aplica nas taxas de retorno a ponderação informada\n",
    "    dataset_retorno *= pesos\n",
    "\n",
    "    colunas = dataset_retorno.columns\n",
    "\n",
    "    # Obtem a média dos retornos diários ponderados da carteira\n",
    "    dataset_retorno[\"Carteira\"] = dataset_retorno.mean(axis=1)\n",
    "\n",
    "    acoes_pesos_retorno = pd.DataFrame(data = {\"Ações\": colunas, \"Pesos\": pesos})\n",
    "    dataset_retorno = pd.concat([dataset[\"Data de Negociação\"], dataset_retorno], axis=1)\n",
    "\n",
    "    return dataset_retorno, acoes_pesos_retorno"
   ],
   "metadata": {
    "collapsed": false,
    "pycharm": {
     "name": "#%%\n"
    }
   }
  },
  {
   "cell_type": "code",
   "execution_count": 45,
   "outputs": [],
   "source": [
    "dataset, acoes_pesos = alocacao_ativos(acoes_df, 9, np.repeat(.1, 10))"
   ],
   "metadata": {
    "collapsed": false,
    "pycharm": {
     "name": "#%%\n"
    }
   }
  },
  {
   "cell_type": "code",
   "execution_count": 62,
   "outputs": [
    {
     "data": {
      "text/plain": "             value\nAção              \nCarteira  1.254402\nENEV3     0.090266\nGOAU4    -0.012486\nJHSF3     0.096102\nMULT3     0.039730\nPRIO3     0.391157\nSANB1     0.081755\nSIMH3     0.023316\nSTBP3     0.192617\nUNIP6     0.330087\nVIVT3     0.021859",
      "text/html": "<div>\n<style scoped>\n    .dataframe tbody tr th:only-of-type {\n        vertical-align: middle;\n    }\n\n    .dataframe tbody tr th {\n        vertical-align: top;\n    }\n\n    .dataframe thead th {\n        text-align: right;\n    }\n</style>\n<table border=\"1\" class=\"dataframe\">\n  <thead>\n    <tr style=\"text-align: right;\">\n      <th></th>\n      <th>value</th>\n    </tr>\n    <tr>\n      <th>Ação</th>\n      <th></th>\n    </tr>\n  </thead>\n  <tbody>\n    <tr>\n      <th>Carteira</th>\n      <td>1.254402</td>\n    </tr>\n    <tr>\n      <th>ENEV3</th>\n      <td>0.090266</td>\n    </tr>\n    <tr>\n      <th>GOAU4</th>\n      <td>-0.012486</td>\n    </tr>\n    <tr>\n      <th>JHSF3</th>\n      <td>0.096102</td>\n    </tr>\n    <tr>\n      <th>MULT3</th>\n      <td>0.039730</td>\n    </tr>\n    <tr>\n      <th>PRIO3</th>\n      <td>0.391157</td>\n    </tr>\n    <tr>\n      <th>SANB1</th>\n      <td>0.081755</td>\n    </tr>\n    <tr>\n      <th>SIMH3</th>\n      <td>0.023316</td>\n    </tr>\n    <tr>\n      <th>STBP3</th>\n      <td>0.192617</td>\n    </tr>\n    <tr>\n      <th>UNIP6</th>\n      <td>0.330087</td>\n    </tr>\n    <tr>\n      <th>VIVT3</th>\n      <td>0.021859</td>\n    </tr>\n  </tbody>\n</table>\n</div>"
     },
     "execution_count": 62,
     "metadata": {},
     "output_type": "execute_result"
    }
   ],
   "source": [
    "(pd.melt(dataset, id_vars=[\"Data de Negociação\"], var_name=[\"Ação\"])).groupby(\"Ação\").sum()"
   ],
   "metadata": {
    "collapsed": false,
    "pycharm": {
     "name": "#%%\n"
    }
   }
  },
  {
   "cell_type": "code",
   "execution_count": 46,
   "outputs": [
    {
     "data": {
      "text/plain": "     Data de Negociação     PRIO3     JHSF3     SANB1     VIVT3     ENEV3  \\\n0            2015-01-02       NaN       NaN       NaN       NaN       NaN   \n1            2015-01-05 -0.007796 -0.003653 -0.000710 -0.002003 -0.007411   \n2            2015-01-06 -0.010345  0.000464  0.000710 -0.002513  0.002532   \n3            2015-01-07 -0.000273  0.000000  0.004082  0.003373  0.002469   \n4            2015-01-08  0.003226  0.008855 -0.001674  0.003985  0.002410   \n...                 ...       ...       ...       ...       ...       ...   \n1857         2022-06-24  0.005049 -0.000644 -0.000306 -0.000728 -0.000070   \n1858         2022-06-27  0.005160  0.001443  0.001787  0.000322  0.005619   \n1859         2022-06-28 -0.000044 -0.000639 -0.000234 -0.000472  0.001048   \n1860         2022-06-29 -0.000842 -0.000966 -0.001826 -0.001780 -0.002507   \n1861         2022-06-30 -0.002159 -0.005830 -0.001721  0.003020 -0.001345   \n\n         MULT3     SIMH3     UNIP6     STBP3     GOAU4  Carteira  \n0          NaN       NaN       NaN       NaN       NaN  0.000000  \n1    -0.000136       NaN -0.004349  0.000000 -0.004828 -0.030886  \n2     0.004857       NaN  0.002198  0.000000  0.009346  0.007249  \n3     0.003390       NaN  0.000000  0.000000  0.007076  0.020117  \n4    -0.001068       NaN  0.000000  0.000000 -0.003433  0.012301  \n...        ...       ...       ...       ...       ...       ...  \n1857 -0.002501 -0.001824  0.002066 -0.000622  0.003553  0.003974  \n1858  0.000310  0.000408  0.002830  0.001394  0.001528  0.020803  \n1859  0.001057 -0.002788  0.001062 -0.002650  0.000202 -0.003459  \n1860 -0.001635 -0.001265 -0.001773  0.001567 -0.000709 -0.011734  \n1861 -0.002252 -0.001603 -0.003059  0.001390 -0.002991 -0.016551  \n\n[1862 rows x 12 columns]",
      "text/html": "<div>\n<style scoped>\n    .dataframe tbody tr th:only-of-type {\n        vertical-align: middle;\n    }\n\n    .dataframe tbody tr th {\n        vertical-align: top;\n    }\n\n    .dataframe thead th {\n        text-align: right;\n    }\n</style>\n<table border=\"1\" class=\"dataframe\">\n  <thead>\n    <tr style=\"text-align: right;\">\n      <th></th>\n      <th>Data de Negociação</th>\n      <th>PRIO3</th>\n      <th>JHSF3</th>\n      <th>SANB1</th>\n      <th>VIVT3</th>\n      <th>ENEV3</th>\n      <th>MULT3</th>\n      <th>SIMH3</th>\n      <th>UNIP6</th>\n      <th>STBP3</th>\n      <th>GOAU4</th>\n      <th>Carteira</th>\n    </tr>\n  </thead>\n  <tbody>\n    <tr>\n      <th>0</th>\n      <td>2015-01-02</td>\n      <td>NaN</td>\n      <td>NaN</td>\n      <td>NaN</td>\n      <td>NaN</td>\n      <td>NaN</td>\n      <td>NaN</td>\n      <td>NaN</td>\n      <td>NaN</td>\n      <td>NaN</td>\n      <td>NaN</td>\n      <td>0.000000</td>\n    </tr>\n    <tr>\n      <th>1</th>\n      <td>2015-01-05</td>\n      <td>-0.007796</td>\n      <td>-0.003653</td>\n      <td>-0.000710</td>\n      <td>-0.002003</td>\n      <td>-0.007411</td>\n      <td>-0.000136</td>\n      <td>NaN</td>\n      <td>-0.004349</td>\n      <td>0.000000</td>\n      <td>-0.004828</td>\n      <td>-0.030886</td>\n    </tr>\n    <tr>\n      <th>2</th>\n      <td>2015-01-06</td>\n      <td>-0.010345</td>\n      <td>0.000464</td>\n      <td>0.000710</td>\n      <td>-0.002513</td>\n      <td>0.002532</td>\n      <td>0.004857</td>\n      <td>NaN</td>\n      <td>0.002198</td>\n      <td>0.000000</td>\n      <td>0.009346</td>\n      <td>0.007249</td>\n    </tr>\n    <tr>\n      <th>3</th>\n      <td>2015-01-07</td>\n      <td>-0.000273</td>\n      <td>0.000000</td>\n      <td>0.004082</td>\n      <td>0.003373</td>\n      <td>0.002469</td>\n      <td>0.003390</td>\n      <td>NaN</td>\n      <td>0.000000</td>\n      <td>0.000000</td>\n      <td>0.007076</td>\n      <td>0.020117</td>\n    </tr>\n    <tr>\n      <th>4</th>\n      <td>2015-01-08</td>\n      <td>0.003226</td>\n      <td>0.008855</td>\n      <td>-0.001674</td>\n      <td>0.003985</td>\n      <td>0.002410</td>\n      <td>-0.001068</td>\n      <td>NaN</td>\n      <td>0.000000</td>\n      <td>0.000000</td>\n      <td>-0.003433</td>\n      <td>0.012301</td>\n    </tr>\n    <tr>\n      <th>...</th>\n      <td>...</td>\n      <td>...</td>\n      <td>...</td>\n      <td>...</td>\n      <td>...</td>\n      <td>...</td>\n      <td>...</td>\n      <td>...</td>\n      <td>...</td>\n      <td>...</td>\n      <td>...</td>\n      <td>...</td>\n    </tr>\n    <tr>\n      <th>1857</th>\n      <td>2022-06-24</td>\n      <td>0.005049</td>\n      <td>-0.000644</td>\n      <td>-0.000306</td>\n      <td>-0.000728</td>\n      <td>-0.000070</td>\n      <td>-0.002501</td>\n      <td>-0.001824</td>\n      <td>0.002066</td>\n      <td>-0.000622</td>\n      <td>0.003553</td>\n      <td>0.003974</td>\n    </tr>\n    <tr>\n      <th>1858</th>\n      <td>2022-06-27</td>\n      <td>0.005160</td>\n      <td>0.001443</td>\n      <td>0.001787</td>\n      <td>0.000322</td>\n      <td>0.005619</td>\n      <td>0.000310</td>\n      <td>0.000408</td>\n      <td>0.002830</td>\n      <td>0.001394</td>\n      <td>0.001528</td>\n      <td>0.020803</td>\n    </tr>\n    <tr>\n      <th>1859</th>\n      <td>2022-06-28</td>\n      <td>-0.000044</td>\n      <td>-0.000639</td>\n      <td>-0.000234</td>\n      <td>-0.000472</td>\n      <td>0.001048</td>\n      <td>0.001057</td>\n      <td>-0.002788</td>\n      <td>0.001062</td>\n      <td>-0.002650</td>\n      <td>0.000202</td>\n      <td>-0.003459</td>\n    </tr>\n    <tr>\n      <th>1860</th>\n      <td>2022-06-29</td>\n      <td>-0.000842</td>\n      <td>-0.000966</td>\n      <td>-0.001826</td>\n      <td>-0.001780</td>\n      <td>-0.002507</td>\n      <td>-0.001635</td>\n      <td>-0.001265</td>\n      <td>-0.001773</td>\n      <td>0.001567</td>\n      <td>-0.000709</td>\n      <td>-0.011734</td>\n    </tr>\n    <tr>\n      <th>1861</th>\n      <td>2022-06-30</td>\n      <td>-0.002159</td>\n      <td>-0.005830</td>\n      <td>-0.001721</td>\n      <td>0.003020</td>\n      <td>-0.001345</td>\n      <td>-0.002252</td>\n      <td>-0.001603</td>\n      <td>-0.003059</td>\n      <td>0.001390</td>\n      <td>-0.002991</td>\n      <td>-0.016551</td>\n    </tr>\n  </tbody>\n</table>\n<p>1862 rows × 12 columns</p>\n</div>"
     },
     "execution_count": 46,
     "metadata": {},
     "output_type": "execute_result"
    }
   ],
   "source": [
    "dataset"
   ],
   "metadata": {
    "collapsed": false,
    "pycharm": {
     "name": "#%%\n"
    }
   }
  },
  {
   "cell_type": "code",
   "execution_count": 33,
   "outputs": [
    {
     "data": {
      "text/plain": "   Ações  Pesos\n0  PRIO3    0.1\n1  JHSF3    0.1\n2  SANB1    0.1\n3  VIVT3    0.1\n4  ENEV3    0.1\n5  MULT3    0.1\n6  SIMH3    0.1\n7  UNIP6    0.1\n8  STBP3    0.1\n9  GOAU4    0.1",
      "text/html": "<div>\n<style scoped>\n    .dataframe tbody tr th:only-of-type {\n        vertical-align: middle;\n    }\n\n    .dataframe tbody tr th {\n        vertical-align: top;\n    }\n\n    .dataframe thead th {\n        text-align: right;\n    }\n</style>\n<table border=\"1\" class=\"dataframe\">\n  <thead>\n    <tr style=\"text-align: right;\">\n      <th></th>\n      <th>Ações</th>\n      <th>Pesos</th>\n    </tr>\n  </thead>\n  <tbody>\n    <tr>\n      <th>0</th>\n      <td>PRIO3</td>\n      <td>0.1</td>\n    </tr>\n    <tr>\n      <th>1</th>\n      <td>JHSF3</td>\n      <td>0.1</td>\n    </tr>\n    <tr>\n      <th>2</th>\n      <td>SANB1</td>\n      <td>0.1</td>\n    </tr>\n    <tr>\n      <th>3</th>\n      <td>VIVT3</td>\n      <td>0.1</td>\n    </tr>\n    <tr>\n      <th>4</th>\n      <td>ENEV3</td>\n      <td>0.1</td>\n    </tr>\n    <tr>\n      <th>5</th>\n      <td>MULT3</td>\n      <td>0.1</td>\n    </tr>\n    <tr>\n      <th>6</th>\n      <td>SIMH3</td>\n      <td>0.1</td>\n    </tr>\n    <tr>\n      <th>7</th>\n      <td>UNIP6</td>\n      <td>0.1</td>\n    </tr>\n    <tr>\n      <th>8</th>\n      <td>STBP3</td>\n      <td>0.1</td>\n    </tr>\n    <tr>\n      <th>9</th>\n      <td>GOAU4</td>\n      <td>0.1</td>\n    </tr>\n  </tbody>\n</table>\n</div>"
     },
     "execution_count": 33,
     "metadata": {},
     "output_type": "execute_result"
    }
   ],
   "source": [
    "acoes_pesos"
   ],
   "metadata": {
    "collapsed": false,
    "pycharm": {
     "name": "#%%\n"
    }
   }
  },
  {
   "cell_type": "code",
   "execution_count": 39,
   "outputs": [
    {
     "data": {
      "text/plain": "-0.01655148531136073"
     },
     "execution_count": 39,
     "metadata": {},
     "output_type": "execute_result"
    }
   ],
   "source": [
    "num_carteiras = 1000\n"
   ],
   "metadata": {
    "collapsed": false,
    "pycharm": {
     "name": "#%%\n"
    }
   }
  },
  {
   "cell_type": "markdown",
   "source": [
    "***\n",
    "## <font color=\"green\">4 - Simulação da Fronteira Eficiente</font>\n",
    "***"
   ],
   "metadata": {
    "collapsed": false,
    "pycharm": {
     "name": "#%% md\n"
    }
   }
  },
  {
   "cell_type": "markdown",
   "source": [
    "Utilizando-se dos conhecimentos e estruturas criadas nas seções anteriores, será plotado o gráfico da fronteira eficiente e posicionado o portfólio criado de acordo com o índice de Sharpe."
   ],
   "metadata": {
    "collapsed": false,
    "pycharm": {
     "name": "#%% md\n"
    }
   }
  },
  {
   "cell_type": "markdown",
   "source": [
    "### 4.1 - Calculando o índice de Sharpe\n",
    "***"
   ],
   "metadata": {
    "collapsed": false,
    "pycharm": {
     "name": "#%% md\n"
    }
   }
  },
  {
   "cell_type": "markdown",
   "source": [
    "O índice de Sharpe dá uma ideia de retorno em relação ao risco. Quanto maior o índice, mais convervadora a carteira e menor o retorno."
   ],
   "metadata": {
    "collapsed": false,
    "pycharm": {
     "name": "#%% md\n"
    }
   }
  },
  {
   "cell_type": "code",
   "execution_count": null,
   "outputs": [],
   "source": [],
   "metadata": {
    "collapsed": false,
    "pycharm": {
     "name": "#%%\n"
    }
   }
  },
  {
   "cell_type": "markdown",
   "metadata": {
    "id": "distinct-japan",
    "pycharm": {
     "name": "#%% md\n"
    }
   },
   "source": [
    "***\n",
    "## <font color=\"green\">5 - Testando a Homogeneidade da Variância do Erro</font>\n",
    "***"
   ],
   "id": "distinct-japan"
  },
  {
   "cell_type": "markdown",
   "source": [
    "Como demonstrado nos exemplos de aula teórica, existe uma necessidade de se estimar um modelo homecedástico, ou seja, que os erros possuem variância comum. Para tal, serão realizados os testes de Levene e Bartlett.\n",
    "Para a realização dos testes, foram criadas 3 amostras dos dados, contendo, cada uma, 1000 registros, tanto da carteira criada, quanto do índice IBOVESPA. O nível de significância é de 5%.\n",
    "\n",
    "Onde:\n",
    "\n",
    "$H_0:$ homocedasticidade das variâncias\n",
    "\n",
    "$H_1:$ heterocedasticidade das variâncias\n",
    "\n",
    "$\\alpha =$ 0.05"
   ],
   "metadata": {
    "id": "SkYh8OAIqNpo",
    "pycharm": {
     "name": "#%% md\n"
    }
   },
   "id": "SkYh8OAIqNpo"
  },
  {
   "cell_type": "code",
   "source": [
    "significancia = 0.05 # significância de 5%\n",
    "tamanho_amostra = 1000"
   ],
   "metadata": {
    "id": "EzEu_OzzqwW9",
    "pycharm": {
     "name": "#%%\n"
    }
   },
   "id": "EzEu_OzzqwW9",
   "execution_count": null,
   "outputs": []
  },
  {
   "cell_type": "markdown",
   "source": [
    "### 4.1 - Teste de Levene\n",
    "***"
   ],
   "metadata": {
    "id": "dMAwWp_TqmY9",
    "pycharm": {
     "name": "#%% md\n"
    }
   },
   "id": "dMAwWp_TqmY9"
  },
  {
   "cell_type": "code",
   "source": [
    "stat_teste, p_valor = levene(analise_df[\"CARTEIRA\"], analise_df[\"^BVSP\"])\n",
    "print(f\"Estatística-teste: {stat_teste}\")\n",
    "print(f\"P-valor: {p_valor}\")\n",
    "\n",
    "if p_valor <= significancia:\n",
    "    print(\"Reijeita H0\")\n",
    "else:\n",
    "    print(\"Não Rejeita H0\")"
   ],
   "metadata": {
    "colab": {
     "base_uri": "https://localhost:8080/"
    },
    "id": "AzMQ2Y-5qjDt",
    "outputId": "7b32030a-fa75-4fde-e2ec-3f199b46abca",
    "pycharm": {
     "name": "#%%\n"
    }
   },
   "id": "AzMQ2Y-5qjDt",
   "execution_count": null,
   "outputs": []
  },
  {
   "cell_type": "markdown",
   "source": [
    "Ao aplicar os testes de Levene nos dois grupos tanto da carteira, quanto do índice IBOVESPA, a hipótese nula $H_0$ não foi rejeitada, indicando homocedasticidade ou homogeneidade das variâncias entre os diferentes grupos."
   ],
   "metadata": {
    "collapsed": false,
    "pycharm": {
     "name": "#%% md\n"
    }
   }
  },
  {
   "cell_type": "markdown",
   "source": [
    "### 4.2 - Teste de Bartlett\n",
    "***"
   ],
   "metadata": {
    "collapsed": false,
    "pycharm": {
     "name": "#%% md\n"
    }
   }
  },
  {
   "cell_type": "code",
   "source": [
    "stat_teste, p_valor = bartlett(analise_df[\"CARTEIRA\"], analise_df[\"^BVSP\"])\n",
    "print(f\"Estatística-teste: {stat_teste:0.4f}\")\n",
    "print(f\"P-valor: {p_valor:0.4f}\")\n",
    "\n",
    "if p_valor <= significancia:\n",
    "    print(\"Rejeita H0\")\n",
    "else:\n",
    "    print(\"Não Rejeita H0\")"
   ],
   "metadata": {
    "colab": {
     "base_uri": "https://localhost:8080/"
    },
    "id": "j8s-YQV8tXGy",
    "outputId": "b9382854-7a8a-459b-e5e0-76b9e2ef63a2",
    "pycharm": {
     "name": "#%%\n"
    }
   },
   "id": "j8s-YQV8tXGy",
   "execution_count": null,
   "outputs": []
  },
  {
   "cell_type": "markdown",
   "source": [
    "A partir do Teste de Bartlett, confirma-se o p-valor obtido na carteira não rejeitou $H_0$, como no de Levene, mas rejeitou $H_0$ nas amostras do IBOVESPA. Desta forma, observação registrada, para fins deste trabalho,\n",
    "é pressuposto que as variâncias são homogêneas."
   ],
   "metadata": {
    "collapsed": false,
    "pycharm": {
     "name": "#%% md\n"
    }
   }
  },
  {
   "cell_type": "markdown",
   "source": [
    "### 4.3 - Visualizando das distribuições\n",
    "***"
   ],
   "metadata": {
    "collapsed": false,
    "pycharm": {
     "name": "#%% md\n"
    }
   }
  },
  {
   "cell_type": "markdown",
   "source": [
    "#### _4.3.1 - Carteira_"
   ],
   "metadata": {
    "collapsed": false,
    "pycharm": {
     "name": "#%% md\n"
    }
   }
  },
  {
   "cell_type": "code",
   "execution_count": null,
   "outputs": [],
   "source": [
    "desvio_padrao = analise_df[\"CARTEIRA\"].std()\n",
    "media = analise_df[\"CARTEIRA\"].mean()\n",
    "\n",
    "intervalo = norm.interval(alpha=0.95, loc=media, scale=desvio_padrao)\n",
    "ax = analise_df[\"CARTEIRA\"].plot(style = \".\")\n",
    "ax.figure.set_size_inches(14, 6)\n",
    "ax.hlines(y=media, xmin = 0, xmax = len(analise_df[\"CARTEIRA\"]), colors=\"black\", linestyles=\"dashed\")\n",
    "ax.hlines(y=intervalo[0], xmin = 0, xmax = len(analise_df[\"CARTEIRA\"]), colors=\"red\", linestyles=\"dashed\")\n",
    "ax.hlines(y=intervalo[1], xmin = 0, xmax = len(analise_df[\"CARTEIRA\"]), colors=\"red\", linestyles=\"dashed\")"
   ],
   "metadata": {
    "collapsed": false,
    "pycharm": {
     "name": "#%%\n"
    }
   }
  },
  {
   "cell_type": "markdown",
   "source": [
    "#### _4.3.2 - IBOVESPA_"
   ],
   "metadata": {
    "collapsed": false,
    "pycharm": {
     "name": "#%% md\n"
    }
   }
  },
  {
   "cell_type": "code",
   "execution_count": null,
   "outputs": [],
   "source": [
    "desvio_padrao = analise_df[\"^BVSP\"].std()\n",
    "media = analise_df[\"^BVSP\"].mean()\n",
    "\n",
    "intervalo = norm.interval(alpha=0.95, loc=media, scale=desvio_padrao)\n",
    "ax = analise_df[\"^BVSP\"].plot(style=\".\")\n",
    "ax.figure.set_size_inches(14, 6)\n",
    "ax.hlines(y=media, xmin=0, xmax=len(analise_df[\"^BVSP\"]), colors=\"black\", linestyles=\"dashed\")\n",
    "ax.hlines(y=intervalo[0], xmin=0, xmax=len(analise_df[\"^BVSP\"]), colors=\"red\", linestyles=\"dashed\")\n",
    "ax.hlines(y=intervalo[1], xmin=0, xmax=len(analise_df[\"^BVSP\"]), colors=\"red\", linestyles=\"dashed\")"
   ],
   "metadata": {
    "collapsed": false,
    "pycharm": {
     "name": "#%%\n"
    }
   }
  },
  {
   "cell_type": "markdown",
   "source": [
    "***\n",
    "## <font color=\"green\">5 - Teste ANOVA</font>\n",
    "***"
   ],
   "metadata": {
    "id": "tEnANkOjxyZu",
    "pycharm": {
     "name": "#%% md\n"
    }
   },
   "id": "tEnANkOjxyZu"
  },
  {
   "cell_type": "markdown",
   "source": [
    "Por fim, com os dados das médias de ambos os tipos de taxa de retorno (Carteira e IBOVESPA) reunidos, é realizado o teste ANOVA e montada a tabela com o resultado,\n",
    "demonstrando a comparação entre as médias.\n",
    "\n",
    "Onde:\n",
    "<br>\n",
    "$H_0: \\mu_{1} = \\mu_{2} = \\mu_{3} = ... = \\mu_{n}$\n",
    "\n",
    "$H_1 =$ nem todas as médias de taxa de retorno são iguais\n",
    "\n",
    "$\\alpha =$ 0.05"
   ],
   "metadata": {
    "collapsed": false,
    "pycharm": {
     "name": "#%% md\n"
    }
   }
  },
  {
   "cell_type": "code",
   "execution_count": null,
   "outputs": [],
   "source": [
    "analise_df_melted = pd.melt(analise_df, id_vars=[\"Data de Negociação\"], value_vars=[\"CARTEIRA\", \"^BVSP\"])\n",
    "analise_df_melted.columns = [\"Data de Negociação\", \"Tipo\", \"Taxa de Retorno\"]\n",
    "analise_df_melted"
   ],
   "metadata": {
    "collapsed": false,
    "pycharm": {
     "name": "#%%\n"
    }
   }
  },
  {
   "cell_type": "code",
   "execution_count": null,
   "outputs": [],
   "source": [
    "# Create ANOVA backbone table\n",
    "data = [[\"Entre grupos\", \"\", \"\", \"\", \"\", \"\", \"\"], [\"Dentro dos grupos\", \"\", \"\", \"\", \"\", \"\", \"\"], [\"Total\", \"\", \"\", \"\", \"\", \"\", \"\"]]\n",
    "anova_table = pd.DataFrame(data, columns = [\"Fonte da Variação\", \"SS\", \"df\", \"MS\", \"F\", \"P-value\", \"F crit\"])\n",
    "anova_table.set_index(\"Fonte da Variação\", inplace = True)\n",
    "\n",
    "# calculate SSTR and update anova table\n",
    "x_bar = analise_df_melted[\"Taxa de Retorno\"].mean()\n",
    "SSTR = analise_df_melted.groupby(\"Tipo\").count() * (analise_df_melted.groupby(\"Tipo\").mean() - x_bar)**2\n",
    "anova_table[\"SS\"][\"Entre grupos\"] = SSTR[\"Taxa de Retorno\"].sum()\n",
    "\n",
    "# calculate SSE and update anova table\n",
    "SSE = (analise_df_melted.groupby(\"Tipo\").count() - 1) * analise_df_melted.groupby(\"Tipo\").std()**2\n",
    "anova_table[\"SS\"][\"Dentro dos grupos\"] = SSE[\"Taxa de Retorno\"].sum()\n",
    "\n",
    "# calculate SSTR and update anova table\n",
    "SSTR = SSTR[\"Taxa de Retorno\"].sum() + SSE[\"Taxa de Retorno\"].sum()\n",
    "anova_table[\"SS\"][\"Total\"] = SSTR\n",
    "\n",
    "# update degree of freedom\n",
    "anova_table[\"df\"][\"Entre grupos\"] = analise_df_melted[\"Tipo\"].nunique() - 1\n",
    "anova_table[\"df\"][\"Dentro dos grupos\"] = analise_df_melted.shape[0] - analise_df_melted[\"Tipo\"].nunique()\n",
    "anova_table[\"df\"][\"Total\"] = analise_df_melted.shape[0] - 1\n",
    "\n",
    "# calculate MS\n",
    "anova_table[\"MS\"] = anova_table[\"SS\"] / anova_table[\"df\"]\n",
    "\n",
    "# calculate F\n",
    "F = anova_table[\"MS\"][\"Entre grupos\"] / anova_table[\"MS\"][\"Dentro dos grupos\"]\n",
    "anova_table[\"F\"][\"Entre grupos\"] = F\n",
    "\n",
    "# p-value\n",
    "anova_table[\"P-value\"][\"Entre grupos\"] = 1 - f.cdf(F, anova_table[\"df\"][\"Entre grupos\"], anova_table[\"df\"][\"Dentro dos grupos\"])\n",
    "\n",
    "# F critical\n",
    "alpha = 0.05\n",
    "# possible types \"right-tailed, left-tailed, two-tailed\"\n",
    "tail_hypothesis_type = \"two-tailed\"\n",
    "if tail_hypothesis_type == \"two-tailed\":\n",
    "    alpha /= 2\n",
    "anova_table[\"F crit\"][\"Entre grupos\"] = f.ppf(1-alpha, anova_table[\"df\"][\"Entre grupos\"], anova_table[\"df\"][\"Dentro dos grupos\"])\n",
    "\n",
    "# Final ANOVA Table\n",
    "anova_table"
   ],
   "metadata": {
    "collapsed": false,
    "pycharm": {
     "name": "#%%\n"
    }
   }
  },
  {
   "cell_type": "code",
   "execution_count": null,
   "outputs": [],
   "source": [
    "stat_teste, p_valor = f_oneway(analise_df[\"CARTEIRA\"], analise_df[\"^BVSP\"])\n",
    "\n",
    "if p_valor <= significancia:\n",
    "    print(\"Rejeita H0\")\n",
    "else:\n",
    "    print(\"Não Rejeita H0\")"
   ],
   "metadata": {
    "collapsed": false,
    "pycharm": {
     "name": "#%%\n"
    }
   }
  },
  {
   "cell_type": "markdown",
   "source": [
    "***\n",
    "## <font color=\"green\">6 - Conclusão</font>\n",
    "***"
   ],
   "metadata": {
    "collapsed": false,
    "pycharm": {
     "name": "#%% md\n"
    }
   }
  },
  {
   "cell_type": "markdown",
   "source": [
    "Pelo resultado da ANOVA, não se pode rejeitar a hipótese nula $H_0$ de que as médias das taxas de retorno da Carteira são iguais às médias das taxas de retorno do índice IBOVESPA."
   ],
   "metadata": {
    "collapsed": false,
    "pycharm": {
     "name": "#%% md\n"
    }
   }
  }
 ],
 "metadata": {
  "colab": {
   "name": "trabalho_anova.ipynb",
   "provenance": [],
   "collapsed_sections": [
    "9b836131",
    "ad834e60",
    "a279f340",
    "instant-innocent"
   ]
  },
  "kernelspec": {
   "display_name": "Python 3 (ipykernel)",
   "language": "python",
   "name": "python3"
  },
  "language_info": {
   "codemirror_mode": {
    "name": "ipython",
    "version": 3
   },
   "file_extension": ".py",
   "mimetype": "text/x-python",
   "name": "python",
   "nbconvert_exporter": "python",
   "pygments_lexer": "ipython3",
   "version": "3.9.12"
  }
 },
 "nbformat": 4,
 "nbformat_minor": 5
}